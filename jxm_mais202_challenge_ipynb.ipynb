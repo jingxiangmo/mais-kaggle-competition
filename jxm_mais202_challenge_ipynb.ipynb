{
  "cells": [
    {
      "cell_type": "code",
      "execution_count": 38,
      "metadata": {
        "id": "ISyng9BSoMme"
      },
      "outputs": [],
      "source": [
        "# IMPORTS\n",
        "import numpy as np\n",
        "import pandas as pd\n",
        "import matplotlib.pyplot as plt\n",
        "import keras\n",
        "from tensorflow.keras import layers\n",
        "from keras.utils import np_utils\n",
        "\n",
        "# LOAD DATA\n",
        "train_images = np.load(\"./data/train_images.npy\")\n",
        "test_images = np.load(\"./data/test_images.npy\")\n",
        "train_labels = pd.read_csv(\"./data/train_labels.csv\")"
      ]
    },
    {
      "cell_type": "code",
      "execution_count": 39,
      "metadata": {
        "colab": {
          "base_uri": "https://localhost:8080/",
          "height": 407
        },
        "id": "ohl9btSTiWzF",
        "outputId": "ca21883f-91bd-4723-9a97-f5e099061d50"
      },
      "outputs": [
        {
          "data": {
            "image/png": "[encoded data removed]",
            "text/plain": [
              "<Figure size 640x480 with 1 Axes>"
            ]
          },
          "metadata": {},
          "output_type": "display_data"
        }
      ],
      "source": [
        "# DISPLAY IMAGE \n",
        "def show_image(arr):\n",
        "    two_d = (np.reshape(arr, (28, 28)) * 255).astype(np.uint8)\n",
        "    plt.imshow(two_d, interpolation='nearest')\n",
        "    plt.show()\n",
        "# display a few images \n",
        "for i in range(1):\n",
        "  show_image(train_images[i])\n",
        "  "
      ]
    },
    {
      "cell_type": "code",
      "execution_count": 40,
      "metadata": {
        "id": "MB3RXdolj1pp"
      },
      "outputs": [],
      "source": [
        "# x_train\n",
        "X_train = train_images / 255.0\n",
        "X_test = test_images / 255.0\n",
        "\n",
        "# y_train\n",
        "num_classes = 10\n",
        "y_train = keras.utils.to_categorical(train_labels['label'], num_classes)"
      ]
    },
    {
      "cell_type": "code",
      "execution_count": 41,
      "metadata": {},
      "outputs": [],
      "source": [
        "# MODEL\n",
        "\n",
        "model = keras.Sequential([\n",
        "    layers.InputLayer(input_shape=(28, 28)),\n",
        "    layers.Reshape((28, 28, 1)),\n",
        "    layers.Conv2D(32, kernel_size=(3, 3), activation=\"relu\"),\n",
        "    layers.MaxPooling2D(pool_size=(2, 2)),\n",
        "    layers.Conv2D(64, kernel_size=(3, 3), activation=\"relu\"),\n",
        "    layers.MaxPooling2D(pool_size=(2, 2)),\n",
        "    layers.Flatten(),\n",
        "    layers.Dense(128, activation=\"relu\"),\n",
        "    layers.Dense(num_classes, activation=\"softmax\")\n",
        "])\n"
      ]
    },
    {
      "cell_type": "code",
      "execution_count": 42,
      "metadata": {},
      "outputs": [
        {
          "name": "stdout",
          "output_type": "stream",
          "text": [
            "Epoch 1/10\n",
            "352/352 [==============================] - 7s 18ms/step - loss: 0.8456 - accuracy: 0.6920 - val_loss: 0.6450 - val_accuracy: 0.7488\n",
            "Epoch 2/10\n",
            "352/352 [==============================] - 6s 17ms/step - loss: 0.5849 - accuracy: 0.7830 - val_loss: 0.5572 - val_accuracy: 0.7886\n",
            "Epoch 3/10\n",
            "352/352 [==============================] - 6s 17ms/step - loss: 0.5175 - accuracy: 0.8085 - val_loss: 0.5112 - val_accuracy: 0.8094\n",
            "Epoch 4/10\n",
            "352/352 [==============================] - 6s 17ms/step - loss: 0.4739 - accuracy: 0.8263 - val_loss: 0.5047 - val_accuracy: 0.8110\n",
            "Epoch 5/10\n",
            "352/352 [==============================] - 6s 17ms/step - loss: 0.4419 - accuracy: 0.8376 - val_loss: 0.4600 - val_accuracy: 0.8314\n",
            "Epoch 6/10\n",
            "352/352 [==============================] - 6s 17ms/step - loss: 0.4169 - accuracy: 0.8463 - val_loss: 0.4347 - val_accuracy: 0.8414\n",
            "Epoch 7/10\n",
            "352/352 [==============================] - 6s 17ms/step - loss: 0.3960 - accuracy: 0.8541 - val_loss: 0.4233 - val_accuracy: 0.8408\n",
            "Epoch 8/10\n",
            "352/352 [==============================] - 6s 17ms/step - loss: 0.3792 - accuracy: 0.8619 - val_loss: 0.4108 - val_accuracy: 0.8496\n",
            "Epoch 9/10\n",
            "352/352 [==============================] - 6s 17ms/step - loss: 0.3607 - accuracy: 0.8665 - val_loss: 0.4038 - val_accuracy: 0.8542\n",
            "Epoch 10/10\n",
            "352/352 [==============================] - 6s 17ms/step - loss: 0.3471 - accuracy: 0.8729 - val_loss: 0.3979 - val_accuracy: 0.8514\n"
          ]
        },
        {
          "data": {
            "text/plain": [
              "<keras.callbacks.History at 0x2be13b250>"
            ]
          },
          "execution_count": 42,
          "metadata": {},
          "output_type": "execute_result"
        }
      ],
      "source": [
        "model.compile(optimizer=\"adam\", loss=\"categorical_crossentropy\", metrics=[\"accuracy\"])\n",
        "model.fit(X_train, y_train, batch_size=128, epochs=10, validation_split=0.1)"
      ]
    },
    {
      "cell_type": "code",
      "execution_count": 47,
      "metadata": {},
      "outputs": [
        {
          "name": "stdout",
          "output_type": "stream",
          "text": [
            "625/625 [==============================] - 2s 3ms/step\n"
          ]
        }
      ],
      "source": [
        "predictions = model.predict(X_test)\n",
        "\n",
        "# Convert predictions to integer labels\n",
        "predicted_labels = np.argmax(predictions, axis=1)\n",
        "\n",
        "# Save predictions to a CSV file\n",
        "submission = pd.DataFrame(columns=['ID', 'label'])\n",
        "submission['ID'] = range(len(predicted_labels))\n",
        "submission['label'] = predicted_labels\n",
        "submission.to_csv('submission.csv', index=False)"
      ]
    }
  ],
  "metadata": {
    "colab": {
      "provenance": []
    },
    "kernelspec": {
      "display_name": "Python 3",
      "name": "python3"
    },
    "language_info": {
      "codemirror_mode": {
        "name": "ipython",
        "version": 3
      },
      "file_extension": ".py",
      "mimetype": "text/x-python",
      "name": "python",
      "nbconvert_exporter": "python",
      "pygments_lexer": "ipython3",
      "version": "3.9.15"
    }
  },
  "nbformat": 4,
  "nbformat_minor": 0
}
